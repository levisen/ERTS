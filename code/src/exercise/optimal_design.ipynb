{
 "cells": [
  {
   "cell_type": "code",
   "execution_count": 3,
   "metadata": {},
   "outputs": [
    {
     "data": {
      "text/plain": [
       "Text(0, 0.5, 'profit')"
      ]
     },
     "execution_count": 3,
     "metadata": {},
     "output_type": "execute_result"
    },
    {
     "data": {
      "image/png": "[encoded data removed]",
      "text/plain": [
       "<Figure size 432x288 with 1 Axes>"
      ]
     },
     "metadata": {
      "needs_background": "light"
     },
     "output_type": "display_data"
    }
   ],
   "source": [
    "import matplotlib.pyplot as plt\n",
    "import numpy as np\n",
    "\n",
    "camera = np.array([750, 5])\n",
    "bottle = np.array([1500, 8])\n",
    "knife = np.array([300, 7])\n",
    "book = np.array([1000, 3])\n",
    "\n",
    "\n",
    "\n",
    "plt.plot(camera[0], camera[1], markerfacecolor='green',markersize=20, marker='.', label='camera')\n",
    "plt.plot(bottle[0], bottle[1], markerfacecolor='green',markersize=20, marker='.', label='bottle')\n",
    "plt.plot(knife[0], knife[1], markerfacecolor='green',markersize=20, marker='.', label='knife')\n",
    "plt.plot(book[0], book[1], markerfacecolor='green',markersize=20, marker='.', label='book')\n",
    "plt.xlabel('weght')\n",
    "plt.ylabel('profit')\n"
   ]
  },
  {
   "cell_type": "code",
   "execution_count": 6,
   "metadata": {},
   "outputs": [
    {
     "data": {
      "text/plain": [
       "Text(0, 0.5, 'profit')"
      ]
     },
     "execution_count": 6,
     "metadata": {},
     "output_type": "execute_result"
    },
    {
     "data": {
      "image/png": "[encoded data removed]",
      "text/plain": [
       "<Figure size 432x288 with 1 Axes>"
      ]
     },
     "metadata": {
      "needs_background": "light"
     },
     "output_type": "display_data"
    }
   ],
   "source": [
    "solution1 = camera + bottle + knife #best solustion minimizing weith and otptimizing profit\n",
    "solution2 = camera + bottle + book\n",
    "solution3 = camera + book + knife\n",
    "solution4 = book + knife + bottle\n",
    "\n",
    "plt.plot(solution1[0], solution1[1], markerfacecolor='green',markersize=20, marker='.', label='solution1')\n",
    "plt.plot(solution2[0], solution2[1], markerfacecolor='red',markersize=20, marker='.', label='solution2')\n",
    "plt.plot(solution3[0], solution3[1], markerfacecolor='blue',markersize=20, marker='.', label='solution3')\n",
    "plt.plot(solution4[0], solution4[1], markerfacecolor='purple',markersize=20, marker='.', label='solution4')\n",
    "plt.xlabel('weght')\n",
    "plt.ylabel('profit')"
   ]
  },
  {
   "cell_type": "code",
   "execution_count": null,
   "metadata": {},
   "outputs": [],
   "source": []
  }
 ],
 "metadata": {
  "kernelspec": {
   "display_name": "Python 3.8.10 64-bit",
   "language": "python",
   "name": "python3"
  },
  "language_info": {
   "codemirror_mode": {
    "name": "ipython",
    "version": 3
   },
   "file_extension": ".py",
   "mimetype": "text/x-python",
   "name": "python",
   "nbconvert_exporter": "python",
   "pygments_lexer": "ipython3",
   "version": "3.8.10"
  },
  "orig_nbformat": 4,
  "vscode": {
   "interpreter": {
    "hash": "916dbcbb3f70747c44a77c7bcd40155683ae19c65e1c03b4aa3499c5328201f1"
   }
  }
 },
 "nbformat": 4,
 "nbformat_minor": 2
}
